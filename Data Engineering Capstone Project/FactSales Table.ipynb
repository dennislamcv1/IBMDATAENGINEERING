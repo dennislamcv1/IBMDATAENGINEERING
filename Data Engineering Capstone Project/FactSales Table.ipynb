{
 "cells": [
  {
   "cell_type": "code",
   "execution_count": 1,
   "id": "b908147a",
   "metadata": {},
   "outputs": [],
   "source": [
    "#------------------------------------------------------------------------------\n",
    "# from analyzing the dim files we know the ranges\n",
    "# country 1-56\n",
    "# date 1-1096\n",
    "# category 1-5\n",
    "# the numbers for totalsales are totally arbitrary, only avoiding negative values"
   ]
  },
  {
   "cell_type": "code",
   "execution_count": 2,
   "id": "cddc97cf",
   "metadata": {},
   "outputs": [],
   "source": [
    "import numpy as np\n",
    "import pandas as pd"
   ]
  },
  {
   "cell_type": "code",
   "execution_count": 3,
   "id": "c4e19ba2",
   "metadata": {},
   "outputs": [],
   "source": [
    "n = 5000\n",
    "\n",
    "randomDict =   {\"dateid\": np.random.randint(1,1096,size=(n)),\n",
    "                \"categoryid\": np.random.randint(1,5,size=(n)),\n",
    "                \"countryid\": np.random.randint(1,56,size=(n)),\n",
    "                \"totalsales\": np.random.normal(loc=50, scale=10, size=(n))}"
   ]
  },
  {
   "cell_type": "code",
   "execution_count": 4,
   "id": "5bda7fd3",
   "metadata": {},
   "outputs": [],
   "source": [
    "df = pd.DataFrame(randomDict, index=range(0,n))\n",
    "df = df.sort_values(\"dateid\").reset_index().drop(columns=\"index\")"
   ]
  },
  {
   "cell_type": "code",
   "execution_count": 5,
   "id": "6e828dae",
   "metadata": {},
   "outputs": [],
   "source": [
    "df.to_csv(\"FactSales.csv\", index=False)"
   ]
  },
  {
   "cell_type": "code",
   "execution_count": null,
   "id": "1e6f7d33",
   "metadata": {},
   "outputs": [],
   "source": []
  }
 ],
 "metadata": {
  "kernelspec": {
   "display_name": "Python 3 (ipykernel)",
   "language": "python",
   "name": "python3"
  },
  "language_info": {
   "codemirror_mode": {
    "name": "ipython",
    "version": 3
   },
   "file_extension": ".py",
   "mimetype": "text/x-python",
   "name": "python",
   "nbconvert_exporter": "python",
   "pygments_lexer": "ipython3",
   "version": "3.8.8"
  }
 },
 "nbformat": 4,
 "nbformat_minor": 5
}
