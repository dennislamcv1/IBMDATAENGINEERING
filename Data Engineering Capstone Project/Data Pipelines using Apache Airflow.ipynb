{
 "cells": [
  {
   "cell_type": "code",
   "execution_count": 1,
   "id": "fa248ef0",
   "metadata": {},
   "outputs": [
    {
     "name": "stderr",
     "output_type": "stream",
     "text": [
      "WARNING:root:OSError while attempting to symlink the latest log directory\n"
     ]
    }
   ],
   "source": [
    "# import the libraries\n",
    "\n",
    "from datetime import timedelta\n",
    "# The DAG object; we'll need this to instantiate a DAG\n",
    "from airflow import DAG\n",
    "# Operators; we need this to write tasks!\n",
    "from airflow.operators.bash import BashOperator\n",
    "# This makes scheduling easy\n",
    "from airflow.utils.dates import days_ago"
   ]
  },
  {
   "cell_type": "markdown",
   "id": "03e01be9",
   "metadata": {},
   "source": [
    "### Task 1 - Define the DAG arguments"
   ]
  },
  {
   "cell_type": "code",
   "execution_count": 2,
   "id": "dce54365",
   "metadata": {},
   "outputs": [],
   "source": [
    "# You can override them on a per-task basis during operator initialization\n",
    "default_args = {\n",
    "    'owner': 'Dennis L',\n",
    "    'start_date': days_ago(0),\n",
    "    'email': ['dennis@somemail.com'],\n",
    "    \n",
    "}"
   ]
  },
  {
   "cell_type": "markdown",
   "id": "78023e43",
   "metadata": {},
   "source": [
    "### Task 2 - Define the DAG"
   ]
  },
  {
   "cell_type": "code",
   "execution_count": 3,
   "id": "3da6a213",
   "metadata": {},
   "outputs": [],
   "source": [
    "dag = DAG(\n",
    "    dag_id='process_web_log',\n",
    "    default_args=default_args,\n",
    "    description='Web Log DAG using Bash',\n",
    "    schedule_interval=timedelta(days=1),\n",
    ")"
   ]
  },
  {
   "cell_type": "markdown",
   "id": "9ac646f8",
   "metadata": {},
   "source": [
    "### Task 3 - Create a task to extract data"
   ]
  },
  {
   "cell_type": "markdown",
   "id": "2bfa75ed",
   "metadata": {},
   "source": [
    "### Task 4 - Create a task to transform the data in the txt file"
   ]
  },
  {
   "cell_type": "markdown",
   "id": "f02f03fb",
   "metadata": {},
   "source": [
    "### Task 5 - Create a task to load the data"
   ]
  },
  {
   "cell_type": "code",
   "execution_count": 4,
   "id": "d95c664b",
   "metadata": {},
   "outputs": [],
   "source": [
    "# define the first task named extract\n",
    "extract = BashOperator(\n",
    "    task_id='extract',\n",
    "    bash_command='cut -d\":\" -f1 accesslog.txt > extracted-data.txt',\n",
    "    dag=dag,\n",
    ")\n",
    "\n",
    "\n",
    "\n",
    "# define the second task named transform\n",
    "transform = BashOperator(\n",
    "    task_id='transform',\n",
    "    bash_command='tr \"198.46.149.143\" \" \" < extracted-data.txt > transformed-data.txt',\n",
    "    dag=dag,\n",
    ")\n",
    "\n",
    "\n",
    "# define the third task named load\n",
    "\n",
    "load = BashOperator(\n",
    "    task_id='load',\n",
    "    bash_command='< transformed-data.txt > weblog.tar',\n",
    "    dag=dag,\n",
    ")"
   ]
  },
  {
   "cell_type": "markdown",
   "id": "19ad1f87",
   "metadata": {},
   "source": [
    "### Task 6 - Define the task pipeline"
   ]
  },
  {
   "cell_type": "code",
   "execution_count": 5,
   "id": "1be61113",
   "metadata": {},
   "outputs": [
    {
     "data": {
      "text/plain": [
       "<Task(BashOperator): load>"
      ]
     },
     "execution_count": 5,
     "metadata": {},
     "output_type": "execute_result"
    }
   ],
   "source": [
    "# task pipeline\n",
    "extract >> transform >> load"
   ]
  },
  {
   "cell_type": "code",
   "execution_count": null,
   "id": "c72f6e04",
   "metadata": {},
   "outputs": [],
   "source": []
  }
 ],
 "metadata": {
  "kernelspec": {
   "display_name": "Python 3 (ipykernel)",
   "language": "python",
   "name": "python3"
  },
  "language_info": {
   "codemirror_mode": {
    "name": "ipython",
    "version": 3
   },
   "file_extension": ".py",
   "mimetype": "text/x-python",
   "name": "python",
   "nbconvert_exporter": "python",
   "pygments_lexer": "ipython3",
   "version": "3.8.8"
  }
 },
 "nbformat": 4,
 "nbformat_minor": 5
}
